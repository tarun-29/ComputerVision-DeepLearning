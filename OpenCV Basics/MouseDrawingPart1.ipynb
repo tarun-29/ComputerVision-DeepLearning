{
 "cells": [
  {
   "cell_type": "code",
   "execution_count": 4,
   "metadata": {},
   "outputs": [],
   "source": [
    "import numpy as np\n",
    "import cv2\n",
    "\n",
    "###################\n",
    "#### FUNCTION ####\n",
    "##################\n",
    "\n",
    "def drawCircle(event,x,y,flags,params):\n",
    "    if event==cv2.EVENT_LBUTTONDOWN :\n",
    "        cv2.circle(img,(x,y),100,(0,255,0), -1)\n",
    "\n",
    "cv2.namedWindow(winname=\"../DATA/my_drawing\")\n",
    "\n",
    "cv2.setMouseCallback('../DATA/my_drawing',drawCircle)\n",
    "\n",
    "\n",
    "\n",
    "###################################\n",
    "#### SHOWING IMAGE WITH OPENCV ####\n",
    "##################################\n",
    "\n",
    "img = np.zeros((512,512,3))\n",
    "\n",
    "while True :\n",
    "    cv2.imshow('../DATA/my_drawing',img)\n",
    "    if cv2.waitKey(20) & 0xFF == 27:\n",
    "        break\n",
    "\n",
    "\n",
    "cv2.destroyAllWindows()"
   ]
  },
  {
   "cell_type": "code",
   "execution_count": null,
   "metadata": {},
   "outputs": [],
   "source": []
  }
 ],
 "metadata": {
  "language_info": {
   "codemirror_mode": {
    "name": "ipython",
    "version": 3
   },
   "file_extension": ".py",
   "mimetype": "text/x-python",
   "name": "python",
   "nbconvert_exporter": "python",
   "pygments_lexer": "ipython3",
   "version": 3
  },
  "orig_nbformat": 2,
  "kernelspec": {
   "name": "python_defaultSpec_1594748909646",
   "display_name": "Python 3.7.7 64-bit ('CVcourse': conda)"
  }
 },
 "nbformat": 4,
 "nbformat_minor": 2
}