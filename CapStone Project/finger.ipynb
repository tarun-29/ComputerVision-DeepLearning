{
 "metadata": {
  "language_info": {
   "codemirror_mode": {
    "name": "ipython",
    "version": 3
   },
   "file_extension": ".py",
   "mimetype": "text/x-python",
   "name": "python",
   "nbconvert_exporter": "python",
   "pygments_lexer": "ipython3",
   "version": "3.7.7-final"
  },
  "orig_nbformat": 2,
  "kernelspec": {
   "name": "python_defaultSpec_1595143333181",
   "display_name": "Python 3.7.7 64-bit ('CVcourse': conda)"
  }
 },
 "nbformat": 4,
 "nbformat_minor": 2,
 "cells": [
  {
   "cell_type": "code",
   "execution_count": 1,
   "metadata": {},
   "outputs": [],
   "source": [
    "import numpy as np\n",
    "import cv2"
   ]
  },
  {
   "cell_type": "code",
   "execution_count": 2,
   "metadata": {},
   "outputs": [],
   "source": [
    "from sklearn.metrics import pairwise"
   ]
  },
  {
   "cell_type": "code",
   "execution_count": 3,
   "metadata": {},
   "outputs": [],
   "source": [
    "background = None\n",
    "\n",
    "accumulated_weight = 0.5\n",
    "roi_top = 20\n",
    "roi_bottom = 300\n",
    "roi_right = 300\n",
    "roi_left = 600"
   ]
  },
  {
   "cell_type": "code",
   "execution_count": 4,
   "metadata": {},
   "outputs": [],
   "source": [
    "def calc_accum_avg(frame, accumulated_weight):\n",
    "    global background \n",
    "    if background is None :\n",
    "        background = frame.copy().astype('float')\n",
    "        return None\n",
    "\n",
    "    cv2.accumulateWeighted(frame, background, accumulated_weight)\n"
   ]
  },
  {
   "cell_type": "code",
   "execution_count": 5,
   "metadata": {},
   "outputs": [],
   "source": [
    "def segment(frame, threshold_min=25):\n",
    "    diff = cv2.absdiff(background.astype('uint8'), frame)\n",
    "\n",
    "    ret,thresholded = cv2.threshold(diff, threshold_min, 255, cv2.THRESH_BINARY)\n",
    "\n",
    "    image,contours, heirarchy = cv2.findContours(threshold.copy(), cv2.RETR_EXTERNAL, cv2.CHAIN_APPROX_SIMPLE)\n",
    "\n",
    "    if len(contours == 0):\n",
    "        return None\n",
    "    else :\n",
    "        #ASSUMING LARGEST EXTERNAL CONTORS IS HAND\n",
    "        hand_segment = max(contours, key = cv2.contourArea)\n",
    "        return (thresholded, hand_segment)"
   ]
  },
  {
   "cell_type": "code",
   "execution_count": 6,
   "metadata": {},
   "outputs": [],
   "source": [
    "def count_fingers(thresholded, hand_segment):\n",
    "    conv_hull = cv2.convexHull(hand_segment)\n",
    "\n",
    "    #TOP\n",
    "    top = tuple(conv_hull[conv_hull[:,:,1].argmax()][0])\n",
    "    bottom = tuple(conv_hull[conv_hull[:,:,1].argmax()][0])\n",
    "    left = tuple(conv_hull[conv_hull[:,:,1].argmax()][0])\n",
    "    right = tuple(conv_hull[conv_hull[:,:,1].argmax()][0])\n",
    "\n",
    "    cX = (left[0] + right[0])//2\n",
    "    cY = (top[1] + bottom[1])//2\n",
    "\n",
    "    distance = pairwise.euclidean_distances([cX, cY], Y=[left, right, top, bottom])[0]\n",
    "\n",
    "    max_distance = distance.max()\n",
    "    radius = int(0.9*max_distance)\n",
    "    circumfrence = (2*np.pi*radius)\n",
    "\n",
    "    circular_roi = np.zeros(thresholded[:2], dtype='uint8')\n",
    "    cv2.circle(circular_roi,(cX, cY), radius, 255,10)\n",
    "    circular_roi = cv2.bitwise_and(thresholded, thresholded, mask=circular_roi)\n",
    "\n",
    "    image, contours, heirarchy = cv2.findContours(circular_roi.copy(), cv2.RETR_EXTERNAL, cv2.CHAIN_APPROX_NONE)\n",
    "\n",
    "    count = 0\n",
    "    for cnt in contours :\n",
    "        (x,y,w,h) = cv2.boundingRect(cnt)\n",
    "\n",
    "        out_of_wirst = (cY + (cY*0.25))  > (y+h)\n",
    "\n",
    "        limit_points = ((circumfrence*0.25)) > cnt.shape[0]\n",
    "\n",
    "        if out_of_wirst and limit_points :\n",
    "            count+=1\n"
   ]
  },
  {
   "cell_type": "code",
   "execution_count": 7,
   "metadata": {},
   "outputs": [],
   "source": [
    "cam = cv2.VideoCapture(0)\n",
    "\n",
    "num_frames = 0\n",
    "\n",
    "while True :\n",
    "    ret, frame = cam.read()\n",
    "    frame_copy = frame.copy()\n",
    "    roi = frame[roi_top:roi_bottom, roi_right:roi_left]\n",
    "    gray = cv2.cvtColor(roi, cv2.COLOR_BGR2GRAY)\n",
    "    gray = cv2.GaussianBlur(gray, (7,7), 0)\n",
    "\n",
    "    if num_frames < 60 :\n",
    "        calc_accum_avg(gray, accumulated_weight)\n",
    "\n",
    "        if num_frames <  60 :\n",
    "            calc_accum_avg(gray, accumulated_weight)\n",
    "\n",
    "            if num_frames<=59 :\n",
    "                cv2.putText (frame_copy,\"Wait, Getting background\", (200,300), cv2.FONT_HERSHEY_SIMPLEX,1,(0,0,255),2)\n",
    "                cv2.imshow('Finger Count', frame_copy)\n",
    "\n",
    "        else: \n",
    "            hand = segment(gray)\n",
    "\n",
    "            if hand is not None :\n",
    "                thresholded, hand_segment = hand \n",
    "\n",
    "                #Draws contours around real hand in live stream\n",
    "                cv2.drawContours(frame_copy,[hand_segment+(roi_right, roi_top)],-1,(255,0,0),5)\n",
    "                fingers = count_fingers(thresholded,hand_segment)\n",
    "                cv2.putText(frame_copy, str(fingers), (70,50), cv2.FONT_HERSHEY_SIMPLEX,1,(0,0,255),2)\n",
    "                cv2.imshow(\"Thresholded\", thresholded)\n",
    "\n",
    "        cv2.rectangle(frame_copy, (roi_left, roi_top), (roi_right,roi_bottom),(0,0,255), 5)\n",
    "\n",
    "        num_frames +=1\n",
    "        cv2.imshow(\"Finger Count\", frame_copy)\n",
    "\n",
    "        k = cv2.waitKey(1) & 0xFF\n",
    "\n",
    "        if k == 27 :\n",
    "            break\n",
    "\n",
    "    cam.release()\n",
    "    cv2.destroyAllWindows()\n"
   ]
  },
  {
   "cell_type": "code",
   "execution_count": null,
   "metadata": {},
   "outputs": [],
   "source": []
  }
 ]
}